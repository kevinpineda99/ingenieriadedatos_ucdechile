{
  "nbformat": 4,
  "nbformat_minor": 0,
  "metadata": {
    "colab": {
      "provenance": [],
      "collapsed_sections": [
        "-GIMqhcTEPx1",
        "Pwj39cMXFB9b",
        "yB4d1b1KFw3v",
        "5ajnI5m7F9pI",
        "7OyQmth3GgJi",
        "VqoJcVwnjJHu"
      ]
    },
    "kernelspec": {
      "name": "python3",
      "display_name": "Python 3"
    },
    "language_info": {
      "name": "python"
    }
  },
  "cells": [
    {
      "cell_type": "markdown",
      "source": [
        "#Tarea 2 -- formulario de carga de datos y respuestas\n",
        "\n",
        "En este notebook pueden ingresar sus respuestas a las preguntas de tarea 2, y asegurarse que sus comandos SQL funcionan de manera adecuada."
      ],
      "metadata": {
        "id": "8BXXue8KDsQz"
      }
    },
    {
      "cell_type": "markdown",
      "source": [
        "\n",
        "\n",
        "### Cargar SQLite y subir la base de datos a Google Colab\n",
        "\n",
        "Cómo siempre, para poder ocupar el notebook, lo deben subir a https://colab.research.google.com\n",
        "\n",
        "Luego, ejecutando el siguiente campo, se crea una instancia de servidor SQLite, se creará el esquema vista en el enunciado, y se cargarán los datos desde un google drive."
      ],
      "metadata": {
        "id": "-GIMqhcTEPx1"
      }
    },
    {
      "cell_type": "code",
      "source": [
        "%load_ext sql\n",
        "!wget -O datos_T2.db --no-check-certificate https://drive.google.com/uc\\?export\\=download\\&id\\=1XHbkX4QCDeHQTPy_mOw68Wo8rqYMyY6o\n",
        "\n",
        "%sql sqlite:///datos_T2.db"
      ],
      "metadata": {
        "id": "OVSDhz3-hrku",
        "colab": {
          "base_uri": "https://localhost:8080/",
          "height": 351
        },
        "outputId": "5cb28a75-e7e5-40d6-aa87-8b32df821603"
      },
      "execution_count": null,
      "outputs": [
        {
          "output_type": "stream",
          "name": "stdout",
          "text": [
            "--2022-09-04 22:56:10--  https://drive.google.com/uc?export=download&id=1XHbkX4QCDeHQTPy_mOw68Wo8rqYMyY6o\n",
            "Resolving drive.google.com (drive.google.com)... 173.194.214.102, 173.194.214.113, 173.194.214.100, ...\n",
            "Connecting to drive.google.com (drive.google.com)|173.194.214.102|:443... connected.\n",
            "HTTP request sent, awaiting response... 303 See Other\n",
            "Location: https://doc-00-88-docs.googleusercontent.com/docs/securesc/ha0ro937gcuc7l7deffksulhg5h7mbp1/drr4kjrven10iedm78gmiftoeoq470mf/1662332100000/10980901926740711681/*/1XHbkX4QCDeHQTPy_mOw68Wo8rqYMyY6o?e=download&uuid=df470cd0-58eb-470e-b515-0dc8d969fb8e [following]\n",
            "Warning: wildcards not supported in HTTP.\n",
            "--2022-09-04 22:56:10--  https://doc-00-88-docs.googleusercontent.com/docs/securesc/ha0ro937gcuc7l7deffksulhg5h7mbp1/drr4kjrven10iedm78gmiftoeoq470mf/1662332100000/10980901926740711681/*/1XHbkX4QCDeHQTPy_mOw68Wo8rqYMyY6o?e=download&uuid=df470cd0-58eb-470e-b515-0dc8d969fb8e\n",
            "Resolving doc-00-88-docs.googleusercontent.com (doc-00-88-docs.googleusercontent.com)... 173.194.210.132, 2607:f8b0:400c:c0f::84\n",
            "Connecting to doc-00-88-docs.googleusercontent.com (doc-00-88-docs.googleusercontent.com)|173.194.210.132|:443... connected.\n",
            "HTTP request sent, awaiting response... 200 OK\n",
            "Length: 118784 (116K) [application/octet-stream]\n",
            "Saving to: ‘datos_T2.db’\n",
            "\n",
            "datos_T2.db         100%[===================>] 116.00K  --.-KB/s    in 0.001s  \n",
            "\n",
            "2022-09-04 22:56:10 (121 MB/s) - ‘datos_T2.db’ saved [118784/118784]\n",
            "\n"
          ]
        },
        {
          "output_type": "execute_result",
          "data": {
            "text/plain": [
              "'Connected: @datos_T2.db'"
            ],
            "application/vnd.google.colaboratory.intrinsic+json": {
              "type": "string"
            }
          },
          "metadata": {},
          "execution_count": 1
        }
      ]
    },
    {
      "cell_type": "markdown",
      "source": [
        "##Pregunta 1\n",
        "\n",
        "Para asegurarse qué la base de datos está cargada, en esta pregunta deben correr una serie de comandos de tipo:\n",
        "```\n",
        "SELECT *\n",
        "FROM NombreTabla\n",
        "LIMIT 5; \n",
        "```\n",
        "\n",
        "Por ejemplo, para ver la tabla `Persona`, puedes correr:\n",
        "\n",
        "```\n",
        "SELECT *\n",
        "FROM Persona\n",
        "LIMIT 5;\n",
        "```\n",
        "\n",
        "Dado que nuestras tablas tienen 100 o más tuplas, desplegaremos solo las primeras 5 con el comando `LIMIT 5`."
      ],
      "metadata": {
        "id": "Pwj39cMXFB9b"
      }
    },
    {
      "cell_type": "code",
      "source": [
        "%%sql\n",
        "SELECT *\n",
        "FROM Persona\n",
        "LIMIT 10;"
      ],
      "metadata": {
        "id": "8ZECs_9rhjNH",
        "colab": {
          "base_uri": "https://localhost:8080/",
          "height": 284
        },
        "outputId": "76f65427-61e2-4368-9fa0-ee7daf1cc42c"
      },
      "execution_count": null,
      "outputs": [
        {
          "output_type": "stream",
          "name": "stdout",
          "text": [
            " * sqlite:///datos_T2.db\n",
            "Done.\n"
          ]
        },
        {
          "output_type": "execute_result",
          "data": {
            "text/plain": [
              "[('Brian Sanders', '442-30-8082', '127-998-7310', 'brian.sanders@mail.cl'),\n",
              " ('Caleb Simpson', '151-44-5451', '+1-741-621-2285', 'caleb.simpson@mail.cl'),\n",
              " ('Kelly Mccullough', '315-42-0080', '417-906-4707', 'kelly.mccullough@uc.cl'),\n",
              " ('Jason Martin', '562-11-8702', '5667649532', 'jason.martin@uc.cl'),\n",
              " ('Natalie Lane', '893-23-0369', '+1-942-497-5393x1664', 'natalie.lane@mail.cl'),\n",
              " ('Anthony Webb', '478-49-8503', '(130)054-3656x192', 'anthony.webb@mail.cl'),\n",
              " ('Richard Gray', '095-89-2210', '096.090.6329x151', 'richard.gray@email.com'),\n",
              " ('Dawn Bean', '728-96-9591', '168-425-8745', 'dawn.bean@email.com'),\n",
              " ('Rhonda Lindsey', '406-31-1394', '001-132-939-0715x707', 'rhonda.lindsey@uc.cl'),\n",
              " ('Rhonda Johnson', '084-44-2271', '(228)499-1221x6919', 'rhonda.johnson@mail.cl')]"
            ],
            "text/html": [
              "<table>\n",
              "    <thead>\n",
              "        <tr>\n",
              "            <th>nombre</th>\n",
              "            <th>rut</th>\n",
              "            <th>telefono</th>\n",
              "            <th>correo</th>\n",
              "        </tr>\n",
              "    </thead>\n",
              "    <tbody>\n",
              "        <tr>\n",
              "            <td>Brian Sanders</td>\n",
              "            <td>442-30-8082</td>\n",
              "            <td>127-998-7310</td>\n",
              "            <td>brian.sanders@mail.cl</td>\n",
              "        </tr>\n",
              "        <tr>\n",
              "            <td>Caleb Simpson</td>\n",
              "            <td>151-44-5451</td>\n",
              "            <td>+1-741-621-2285</td>\n",
              "            <td>caleb.simpson@mail.cl</td>\n",
              "        </tr>\n",
              "        <tr>\n",
              "            <td>Kelly Mccullough</td>\n",
              "            <td>315-42-0080</td>\n",
              "            <td>417-906-4707</td>\n",
              "            <td>kelly.mccullough@uc.cl</td>\n",
              "        </tr>\n",
              "        <tr>\n",
              "            <td>Jason Martin</td>\n",
              "            <td>562-11-8702</td>\n",
              "            <td>5667649532</td>\n",
              "            <td>jason.martin@uc.cl</td>\n",
              "        </tr>\n",
              "        <tr>\n",
              "            <td>Natalie Lane</td>\n",
              "            <td>893-23-0369</td>\n",
              "            <td>+1-942-497-5393x1664</td>\n",
              "            <td>natalie.lane@mail.cl</td>\n",
              "        </tr>\n",
              "        <tr>\n",
              "            <td>Anthony Webb</td>\n",
              "            <td>478-49-8503</td>\n",
              "            <td>(130)054-3656x192</td>\n",
              "            <td>anthony.webb@mail.cl</td>\n",
              "        </tr>\n",
              "        <tr>\n",
              "            <td>Richard Gray</td>\n",
              "            <td>095-89-2210</td>\n",
              "            <td>096.090.6329x151</td>\n",
              "            <td>richard.gray@email.com</td>\n",
              "        </tr>\n",
              "        <tr>\n",
              "            <td>Dawn Bean</td>\n",
              "            <td>728-96-9591</td>\n",
              "            <td>168-425-8745</td>\n",
              "            <td>dawn.bean@email.com</td>\n",
              "        </tr>\n",
              "        <tr>\n",
              "            <td>Rhonda Lindsey</td>\n",
              "            <td>406-31-1394</td>\n",
              "            <td>001-132-939-0715x707</td>\n",
              "            <td>rhonda.lindsey@uc.cl</td>\n",
              "        </tr>\n",
              "        <tr>\n",
              "            <td>Rhonda Johnson</td>\n",
              "            <td>084-44-2271</td>\n",
              "            <td>(228)499-1221x6919</td>\n",
              "            <td>rhonda.johnson@mail.cl</td>\n",
              "        </tr>\n",
              "    </tbody>\n",
              "</table>"
            ]
          },
          "metadata": {},
          "execution_count": 2
        }
      ]
    },
    {
      "cell_type": "code",
      "source": [
        "%%sql\n",
        "SELECT *\n",
        "FROM TallerDeportivo\n",
        "LIMIT 10;"
      ],
      "metadata": {
        "id": "RjpPQW2-4Jia",
        "colab": {
          "base_uri": "https://localhost:8080/",
          "height": 284
        },
        "outputId": "f9e0e87f-c65f-429f-dd1c-f6b3e3a50eeb"
      },
      "execution_count": null,
      "outputs": [
        {
          "output_type": "stream",
          "name": "stdout",
          "text": [
            " * sqlite:///datos_T2.db\n",
            "Done.\n"
          ]
        },
        {
          "output_type": "execute_result",
          "data": {
            "text/plain": [
              "[(1, 'Taller deportivo 1', 'Felicia Rivera', '2023-03-24', '17:00', 8, 1, 'Handbol', 2, 7),\n",
              " (2, 'Taller deportivo 2', 'Tyler Ferguson', '2023-05-09', '11:00', 8, 1.5, 'Handbol', 2, 7),\n",
              " (3, 'Taller deportivo 3', 'Chris Bryant', '2023-01-16', '15:00', 6, 2, 'Voleibol', 2, 6),\n",
              " (4, 'Taller deportivo 4', 'Gregg Thompson', '2023-03-22', '13:00', 8, 2, 'Handbol', 2, 7),\n",
              " (5, 'Taller deportivo 5', 'Joanna Washington', '2022-06-30', '13:00', 2, 2, 'Voleibol', 2, 6),\n",
              " (6, 'Taller deportivo 6', 'John Reed', '2022-04-16', '11:00', 3, 1, 'Fútbol', 2, 11),\n",
              " (7, 'Taller deportivo 7', 'John Daugherty', '2023-06-10', '16:00', 7, 2, 'Zumba', 1, ''),\n",
              " (8, 'Taller deportivo 8', 'Ronald Andrews', '2023-05-30', '11:00', 4, 2, 'Zumba', 1, ''),\n",
              " (9, 'Taller deportivo 9', 'Melanie Avila', '2022-01-30', '16:00', 8, 1, 'Handbol', 2, 7),\n",
              " (10, 'Taller deportivo 10', 'Stephen Hubbard', '2023-03-29', '13:00', 10, 1, 'Zumba', 1, '')]"
            ],
            "text/html": [
              "<table>\n",
              "    <thead>\n",
              "        <tr>\n",
              "            <th>id</th>\n",
              "            <th>nombreTaller</th>\n",
              "            <th>nombreProfesor</th>\n",
              "            <th>fecha</th>\n",
              "            <th>hora</th>\n",
              "            <th>valor</th>\n",
              "            <th>duracionHrs</th>\n",
              "            <th>deporte</th>\n",
              "            <th>nrEquipos</th>\n",
              "            <th>nrPersonas</th>\n",
              "        </tr>\n",
              "    </thead>\n",
              "    <tbody>\n",
              "        <tr>\n",
              "            <td>1</td>\n",
              "            <td>Taller deportivo 1</td>\n",
              "            <td>Felicia Rivera</td>\n",
              "            <td>2023-03-24</td>\n",
              "            <td>17:00</td>\n",
              "            <td>8</td>\n",
              "            <td>1</td>\n",
              "            <td>Handbol</td>\n",
              "            <td>2</td>\n",
              "            <td>7</td>\n",
              "        </tr>\n",
              "        <tr>\n",
              "            <td>2</td>\n",
              "            <td>Taller deportivo 2</td>\n",
              "            <td>Tyler Ferguson</td>\n",
              "            <td>2023-05-09</td>\n",
              "            <td>11:00</td>\n",
              "            <td>8</td>\n",
              "            <td>1.5</td>\n",
              "            <td>Handbol</td>\n",
              "            <td>2</td>\n",
              "            <td>7</td>\n",
              "        </tr>\n",
              "        <tr>\n",
              "            <td>3</td>\n",
              "            <td>Taller deportivo 3</td>\n",
              "            <td>Chris Bryant</td>\n",
              "            <td>2023-01-16</td>\n",
              "            <td>15:00</td>\n",
              "            <td>6</td>\n",
              "            <td>2</td>\n",
              "            <td>Voleibol</td>\n",
              "            <td>2</td>\n",
              "            <td>6</td>\n",
              "        </tr>\n",
              "        <tr>\n",
              "            <td>4</td>\n",
              "            <td>Taller deportivo 4</td>\n",
              "            <td>Gregg Thompson</td>\n",
              "            <td>2023-03-22</td>\n",
              "            <td>13:00</td>\n",
              "            <td>8</td>\n",
              "            <td>2</td>\n",
              "            <td>Handbol</td>\n",
              "            <td>2</td>\n",
              "            <td>7</td>\n",
              "        </tr>\n",
              "        <tr>\n",
              "            <td>5</td>\n",
              "            <td>Taller deportivo 5</td>\n",
              "            <td>Joanna Washington</td>\n",
              "            <td>2022-06-30</td>\n",
              "            <td>13:00</td>\n",
              "            <td>2</td>\n",
              "            <td>2</td>\n",
              "            <td>Voleibol</td>\n",
              "            <td>2</td>\n",
              "            <td>6</td>\n",
              "        </tr>\n",
              "        <tr>\n",
              "            <td>6</td>\n",
              "            <td>Taller deportivo 6</td>\n",
              "            <td>John Reed</td>\n",
              "            <td>2022-04-16</td>\n",
              "            <td>11:00</td>\n",
              "            <td>3</td>\n",
              "            <td>1</td>\n",
              "            <td>Fútbol</td>\n",
              "            <td>2</td>\n",
              "            <td>11</td>\n",
              "        </tr>\n",
              "        <tr>\n",
              "            <td>7</td>\n",
              "            <td>Taller deportivo 7</td>\n",
              "            <td>John Daugherty</td>\n",
              "            <td>2023-06-10</td>\n",
              "            <td>16:00</td>\n",
              "            <td>7</td>\n",
              "            <td>2</td>\n",
              "            <td>Zumba</td>\n",
              "            <td>1</td>\n",
              "            <td></td>\n",
              "        </tr>\n",
              "        <tr>\n",
              "            <td>8</td>\n",
              "            <td>Taller deportivo 8</td>\n",
              "            <td>Ronald Andrews</td>\n",
              "            <td>2023-05-30</td>\n",
              "            <td>11:00</td>\n",
              "            <td>4</td>\n",
              "            <td>2</td>\n",
              "            <td>Zumba</td>\n",
              "            <td>1</td>\n",
              "            <td></td>\n",
              "        </tr>\n",
              "        <tr>\n",
              "            <td>9</td>\n",
              "            <td>Taller deportivo 9</td>\n",
              "            <td>Melanie Avila</td>\n",
              "            <td>2022-01-30</td>\n",
              "            <td>16:00</td>\n",
              "            <td>8</td>\n",
              "            <td>1</td>\n",
              "            <td>Handbol</td>\n",
              "            <td>2</td>\n",
              "            <td>7</td>\n",
              "        </tr>\n",
              "        <tr>\n",
              "            <td>10</td>\n",
              "            <td>Taller deportivo 10</td>\n",
              "            <td>Stephen Hubbard</td>\n",
              "            <td>2023-03-29</td>\n",
              "            <td>13:00</td>\n",
              "            <td>10</td>\n",
              "            <td>1</td>\n",
              "            <td>Zumba</td>\n",
              "            <td>1</td>\n",
              "            <td></td>\n",
              "        </tr>\n",
              "    </tbody>\n",
              "</table>"
            ]
          },
          "metadata": {},
          "execution_count": 3
        }
      ]
    },
    {
      "cell_type": "code",
      "source": [
        "%%sql\n",
        "SELECT *\n",
        "FROM TallerInstrumental\n",
        "LIMIT 10;"
      ],
      "metadata": {
        "id": "1RvHENCP4Ocf",
        "colab": {
          "base_uri": "https://localhost:8080/",
          "height": 284
        },
        "outputId": "355f2063-3a2f-4a12-c51a-5e8cc4a3263c"
      },
      "execution_count": null,
      "outputs": [
        {
          "output_type": "stream",
          "name": "stdout",
          "text": [
            " * sqlite:///datos_T2.db\n",
            "Done.\n"
          ]
        },
        {
          "output_type": "execute_result",
          "data": {
            "text/plain": [
              "[(101, 'Taller Instrumental 1', 'Mr. Michael Mcguire', '2022-11-03', '11:00', 4, 1, 'Trompeta', 12),\n",
              " (102, 'Taller Instrumental 2', 'Cameron Evans', '2022-01-04', '15:00', 3, 1.5, 'Bajo', 2),\n",
              " (103, 'Taller Instrumental 3', 'Sheila Lewis', '2022-04-04', '13:00', 8, 1.5, 'Guitarra', 4),\n",
              " (104, 'Taller Instrumental 4', 'Ebony Smith', '2022-10-25', '14:00', 3, 1, 'Guitarra', 4),\n",
              " (105, 'Taller Instrumental 5', 'Jose Powell', '2022-05-09', '17:00', 5, 1.5, 'Bajo', 21),\n",
              " (106, 'Taller Instrumental 6', 'Patrick Brock', '2022-05-07', '15:00', 10, 1.5, 'Violín', 10),\n",
              " (107, 'Taller Instrumental 7', 'Scott Steele', '2021-12-02', '14:00', 7, 2, 'Trompeta', 4),\n",
              " (108, 'Taller Instrumental 8', 'Jerome Sheppard', '2021-10-27', '13:00', 9, 2, 'Batería', 10),\n",
              " (109, 'Taller Instrumental 9', 'Richard Moore', '2023-05-28', '14:00', 3, 1.5, 'Piano', 5),\n",
              " (110, 'Taller Instrumental 10', 'Christine Smith', '2023-07-15', '17:00', 9, 1, 'Bajo', 9)]"
            ],
            "text/html": [
              "<table>\n",
              "    <thead>\n",
              "        <tr>\n",
              "            <th>id</th>\n",
              "            <th>nombreTaller</th>\n",
              "            <th>nombreProfesor</th>\n",
              "            <th>fecha</th>\n",
              "            <th>hora</th>\n",
              "            <th>valor</th>\n",
              "            <th>duracionHrs</th>\n",
              "            <th>instrumento</th>\n",
              "            <th>nrInstrumentos</th>\n",
              "        </tr>\n",
              "    </thead>\n",
              "    <tbody>\n",
              "        <tr>\n",
              "            <td>101</td>\n",
              "            <td>Taller Instrumental 1</td>\n",
              "            <td>Mr. Michael Mcguire</td>\n",
              "            <td>2022-11-03</td>\n",
              "            <td>11:00</td>\n",
              "            <td>4</td>\n",
              "            <td>1</td>\n",
              "            <td>Trompeta</td>\n",
              "            <td>12</td>\n",
              "        </tr>\n",
              "        <tr>\n",
              "            <td>102</td>\n",
              "            <td>Taller Instrumental 2</td>\n",
              "            <td>Cameron Evans</td>\n",
              "            <td>2022-01-04</td>\n",
              "            <td>15:00</td>\n",
              "            <td>3</td>\n",
              "            <td>1.5</td>\n",
              "            <td>Bajo</td>\n",
              "            <td>2</td>\n",
              "        </tr>\n",
              "        <tr>\n",
              "            <td>103</td>\n",
              "            <td>Taller Instrumental 3</td>\n",
              "            <td>Sheila Lewis</td>\n",
              "            <td>2022-04-04</td>\n",
              "            <td>13:00</td>\n",
              "            <td>8</td>\n",
              "            <td>1.5</td>\n",
              "            <td>Guitarra</td>\n",
              "            <td>4</td>\n",
              "        </tr>\n",
              "        <tr>\n",
              "            <td>104</td>\n",
              "            <td>Taller Instrumental 4</td>\n",
              "            <td>Ebony Smith</td>\n",
              "            <td>2022-10-25</td>\n",
              "            <td>14:00</td>\n",
              "            <td>3</td>\n",
              "            <td>1</td>\n",
              "            <td>Guitarra</td>\n",
              "            <td>4</td>\n",
              "        </tr>\n",
              "        <tr>\n",
              "            <td>105</td>\n",
              "            <td>Taller Instrumental 5</td>\n",
              "            <td>Jose Powell</td>\n",
              "            <td>2022-05-09</td>\n",
              "            <td>17:00</td>\n",
              "            <td>5</td>\n",
              "            <td>1.5</td>\n",
              "            <td>Bajo</td>\n",
              "            <td>21</td>\n",
              "        </tr>\n",
              "        <tr>\n",
              "            <td>106</td>\n",
              "            <td>Taller Instrumental 6</td>\n",
              "            <td>Patrick Brock</td>\n",
              "            <td>2022-05-07</td>\n",
              "            <td>15:00</td>\n",
              "            <td>10</td>\n",
              "            <td>1.5</td>\n",
              "            <td>Violín</td>\n",
              "            <td>10</td>\n",
              "        </tr>\n",
              "        <tr>\n",
              "            <td>107</td>\n",
              "            <td>Taller Instrumental 7</td>\n",
              "            <td>Scott Steele</td>\n",
              "            <td>2021-12-02</td>\n",
              "            <td>14:00</td>\n",
              "            <td>7</td>\n",
              "            <td>2</td>\n",
              "            <td>Trompeta</td>\n",
              "            <td>4</td>\n",
              "        </tr>\n",
              "        <tr>\n",
              "            <td>108</td>\n",
              "            <td>Taller Instrumental 8</td>\n",
              "            <td>Jerome Sheppard</td>\n",
              "            <td>2021-10-27</td>\n",
              "            <td>13:00</td>\n",
              "            <td>9</td>\n",
              "            <td>2</td>\n",
              "            <td>Batería</td>\n",
              "            <td>10</td>\n",
              "        </tr>\n",
              "        <tr>\n",
              "            <td>109</td>\n",
              "            <td>Taller Instrumental 9</td>\n",
              "            <td>Richard Moore</td>\n",
              "            <td>2023-05-28</td>\n",
              "            <td>14:00</td>\n",
              "            <td>3</td>\n",
              "            <td>1.5</td>\n",
              "            <td>Piano</td>\n",
              "            <td>5</td>\n",
              "        </tr>\n",
              "        <tr>\n",
              "            <td>110</td>\n",
              "            <td>Taller Instrumental 10</td>\n",
              "            <td>Christine Smith</td>\n",
              "            <td>2023-07-15</td>\n",
              "            <td>17:00</td>\n",
              "            <td>9</td>\n",
              "            <td>1</td>\n",
              "            <td>Bajo</td>\n",
              "            <td>9</td>\n",
              "        </tr>\n",
              "    </tbody>\n",
              "</table>"
            ]
          },
          "metadata": {},
          "execution_count": 4
        }
      ]
    },
    {
      "cell_type": "code",
      "source": [
        "%%sql\n",
        "SELECT *\n",
        "FROM Lugar\n",
        "LIMIT 10;"
      ],
      "metadata": {
        "id": "jq4awDrA4U7j",
        "colab": {
          "base_uri": "https://localhost:8080/",
          "height": 284
        },
        "outputId": "4ba49c53-b458-45b0-c515-cb6d56043ab6"
      },
      "execution_count": null,
      "outputs": [
        {
          "output_type": "stream",
          "name": "stdout",
          "text": [
            " * sqlite:///datos_T2.db\n",
            "Done.\n"
          ]
        },
        {
          "output_type": "execute_result",
          "data": {
            "text/plain": [
              "[(1, '8517 White Circle Suite 464West Christine, WY 25833', 54408, 92721, 'Glorialand', 'Syrian Arab Republic'),\n",
              " (2, '0394 Thompson Radial Apt. 440Martinburgh, WI 61668', 58837, 29150, 'Jacquelineborough', 'Saint Vincent and the Grenadines'),\n",
              " (3, '1241 Stevens Extension Suite 769Lopezshire, KS 78903', 23470, 49883, 'Troyberg', 'Bosnia and Herzegovina'),\n",
              " (4, '3031 Moore FallNorth Amandafort, HI 10818', 74384, 91003, 'East Eileenton', 'Palestinian Territory'),\n",
              " (5, '028 Julia StreamBarbaraburgh, FL 62048', 126, 75538, 'Port Katherineport', 'Marshall Islands'),\n",
              " (6, '762 Elizabeth ParksGarcialand, CA 41187', 1840, 99037, 'Harrishaven', 'Israel'),\n",
              " (7, '6981 Wong PathLake Alexanderborough, OK 10033', 338, 57444, 'Bellport', 'Kenya'),\n",
              " (8, '069 Torres VillageEast Davidchester, SD 62530', 90946, 23571, 'Williamsstad', 'United States Minor Outlying Islands'),\n",
              " (9, '22792 Joseph RanchLake Laurafort, NH 27501', 12085, 68226, 'New Johnstad', 'Holy See (Vatican City State)'),\n",
              " (10, '81057 Cody GatewayJohnton, NY 51771', 2192, 28432, 'West Miguelmouth', 'Kenya')]"
            ],
            "text/html": [
              "<table>\n",
              "    <thead>\n",
              "        <tr>\n",
              "            <th>id</th>\n",
              "            <th>calle</th>\n",
              "            <th>numero</th>\n",
              "            <th>codigo</th>\n",
              "            <th>nombreCiudad</th>\n",
              "            <th>nombrePais</th>\n",
              "        </tr>\n",
              "    </thead>\n",
              "    <tbody>\n",
              "        <tr>\n",
              "            <td>1</td>\n",
              "            <td>8517 White Circle Suite 464West Christine, WY 25833</td>\n",
              "            <td>54408</td>\n",
              "            <td>92721</td>\n",
              "            <td>Glorialand</td>\n",
              "            <td>Syrian Arab Republic</td>\n",
              "        </tr>\n",
              "        <tr>\n",
              "            <td>2</td>\n",
              "            <td>0394 Thompson Radial Apt. 440Martinburgh, WI 61668</td>\n",
              "            <td>58837</td>\n",
              "            <td>29150</td>\n",
              "            <td>Jacquelineborough</td>\n",
              "            <td>Saint Vincent and the Grenadines</td>\n",
              "        </tr>\n",
              "        <tr>\n",
              "            <td>3</td>\n",
              "            <td>1241 Stevens Extension Suite 769Lopezshire, KS 78903</td>\n",
              "            <td>23470</td>\n",
              "            <td>49883</td>\n",
              "            <td>Troyberg</td>\n",
              "            <td>Bosnia and Herzegovina</td>\n",
              "        </tr>\n",
              "        <tr>\n",
              "            <td>4</td>\n",
              "            <td>3031 Moore FallNorth Amandafort, HI 10818</td>\n",
              "            <td>74384</td>\n",
              "            <td>91003</td>\n",
              "            <td>East Eileenton</td>\n",
              "            <td>Palestinian Territory</td>\n",
              "        </tr>\n",
              "        <tr>\n",
              "            <td>5</td>\n",
              "            <td>028 Julia StreamBarbaraburgh, FL 62048</td>\n",
              "            <td>126</td>\n",
              "            <td>75538</td>\n",
              "            <td>Port Katherineport</td>\n",
              "            <td>Marshall Islands</td>\n",
              "        </tr>\n",
              "        <tr>\n",
              "            <td>6</td>\n",
              "            <td>762 Elizabeth ParksGarcialand, CA 41187</td>\n",
              "            <td>1840</td>\n",
              "            <td>99037</td>\n",
              "            <td>Harrishaven</td>\n",
              "            <td>Israel</td>\n",
              "        </tr>\n",
              "        <tr>\n",
              "            <td>7</td>\n",
              "            <td>6981 Wong PathLake Alexanderborough, OK 10033</td>\n",
              "            <td>338</td>\n",
              "            <td>57444</td>\n",
              "            <td>Bellport</td>\n",
              "            <td>Kenya</td>\n",
              "        </tr>\n",
              "        <tr>\n",
              "            <td>8</td>\n",
              "            <td>069 Torres VillageEast Davidchester, SD 62530</td>\n",
              "            <td>90946</td>\n",
              "            <td>23571</td>\n",
              "            <td>Williamsstad</td>\n",
              "            <td>United States Minor Outlying Islands</td>\n",
              "        </tr>\n",
              "        <tr>\n",
              "            <td>9</td>\n",
              "            <td>22792 Joseph RanchLake Laurafort, NH 27501</td>\n",
              "            <td>12085</td>\n",
              "            <td>68226</td>\n",
              "            <td>New Johnstad</td>\n",
              "            <td>Holy See (Vatican City State)</td>\n",
              "        </tr>\n",
              "        <tr>\n",
              "            <td>10</td>\n",
              "            <td>81057 Cody GatewayJohnton, NY 51771</td>\n",
              "            <td>2192</td>\n",
              "            <td>28432</td>\n",
              "            <td>West Miguelmouth</td>\n",
              "            <td>Kenya</td>\n",
              "        </tr>\n",
              "    </tbody>\n",
              "</table>"
            ]
          },
          "metadata": {},
          "execution_count": 5
        }
      ]
    },
    {
      "cell_type": "code",
      "source": [
        "%%sql\n",
        "SELECT *\n",
        "FROM Participa\n",
        "LIMIT 10;"
      ],
      "metadata": {
        "id": "mfb_Aoc24Z-9",
        "colab": {
          "base_uri": "https://localhost:8080/",
          "height": 284
        },
        "outputId": "04823c4f-7842-41b1-8a84-0fadab551450"
      },
      "execution_count": null,
      "outputs": [
        {
          "output_type": "stream",
          "name": "stdout",
          "text": [
            " * sqlite:///datos_T2.db\n",
            "Done.\n"
          ]
        },
        {
          "output_type": "execute_result",
          "data": {
            "text/plain": [
              "[('227-40-2546', 134),\n",
              " ('716-91-2023', 94),\n",
              " ('222-10-5678', 138),\n",
              " ('097-65-5254', 191),\n",
              " ('509-82-0904', 133),\n",
              " ('592-98-6474', 89),\n",
              " ('106-26-6898', 130),\n",
              " ('069-79-3655', 170),\n",
              " ('197-77-2759', 140),\n",
              " ('811-50-8892', 141)]"
            ],
            "text/html": [
              "<table>\n",
              "    <thead>\n",
              "        <tr>\n",
              "            <th>rut</th>\n",
              "            <th>idTaller</th>\n",
              "        </tr>\n",
              "    </thead>\n",
              "    <tbody>\n",
              "        <tr>\n",
              "            <td>227-40-2546</td>\n",
              "            <td>134</td>\n",
              "        </tr>\n",
              "        <tr>\n",
              "            <td>716-91-2023</td>\n",
              "            <td>94</td>\n",
              "        </tr>\n",
              "        <tr>\n",
              "            <td>222-10-5678</td>\n",
              "            <td>138</td>\n",
              "        </tr>\n",
              "        <tr>\n",
              "            <td>097-65-5254</td>\n",
              "            <td>191</td>\n",
              "        </tr>\n",
              "        <tr>\n",
              "            <td>509-82-0904</td>\n",
              "            <td>133</td>\n",
              "        </tr>\n",
              "        <tr>\n",
              "            <td>592-98-6474</td>\n",
              "            <td>89</td>\n",
              "        </tr>\n",
              "        <tr>\n",
              "            <td>106-26-6898</td>\n",
              "            <td>130</td>\n",
              "        </tr>\n",
              "        <tr>\n",
              "            <td>069-79-3655</td>\n",
              "            <td>170</td>\n",
              "        </tr>\n",
              "        <tr>\n",
              "            <td>197-77-2759</td>\n",
              "            <td>140</td>\n",
              "        </tr>\n",
              "        <tr>\n",
              "            <td>811-50-8892</td>\n",
              "            <td>141</td>\n",
              "        </tr>\n",
              "    </tbody>\n",
              "</table>"
            ]
          },
          "metadata": {},
          "execution_count": 6
        }
      ]
    },
    {
      "cell_type": "code",
      "source": [
        "%%sql\n",
        "SELECT *\n",
        "FROM EstaEn\n",
        "LIMIT 10;"
      ],
      "metadata": {
        "id": "jE8I_9I54jA4",
        "colab": {
          "base_uri": "https://localhost:8080/",
          "height": 284
        },
        "outputId": "c1122bf1-6376-46b6-91b4-3d524f4550eb"
      },
      "execution_count": null,
      "outputs": [
        {
          "output_type": "stream",
          "name": "stdout",
          "text": [
            " * sqlite:///datos_T2.db\n",
            "Done.\n"
          ]
        },
        {
          "output_type": "execute_result",
          "data": {
            "text/plain": [
              "[(1, 37),\n",
              " (2, 38),\n",
              " (3, 42),\n",
              " (4, 20),\n",
              " (5, 25),\n",
              " (6, 46),\n",
              " (7, 42),\n",
              " (8, 14),\n",
              " (9, 44),\n",
              " (10, 1)]"
            ],
            "text/html": [
              "<table>\n",
              "    <thead>\n",
              "        <tr>\n",
              "            <th>idTaller</th>\n",
              "            <th>idLugar</th>\n",
              "        </tr>\n",
              "    </thead>\n",
              "    <tbody>\n",
              "        <tr>\n",
              "            <td>1</td>\n",
              "            <td>37</td>\n",
              "        </tr>\n",
              "        <tr>\n",
              "            <td>2</td>\n",
              "            <td>38</td>\n",
              "        </tr>\n",
              "        <tr>\n",
              "            <td>3</td>\n",
              "            <td>42</td>\n",
              "        </tr>\n",
              "        <tr>\n",
              "            <td>4</td>\n",
              "            <td>20</td>\n",
              "        </tr>\n",
              "        <tr>\n",
              "            <td>5</td>\n",
              "            <td>25</td>\n",
              "        </tr>\n",
              "        <tr>\n",
              "            <td>6</td>\n",
              "            <td>46</td>\n",
              "        </tr>\n",
              "        <tr>\n",
              "            <td>7</td>\n",
              "            <td>42</td>\n",
              "        </tr>\n",
              "        <tr>\n",
              "            <td>8</td>\n",
              "            <td>14</td>\n",
              "        </tr>\n",
              "        <tr>\n",
              "            <td>9</td>\n",
              "            <td>44</td>\n",
              "        </tr>\n",
              "        <tr>\n",
              "            <td>10</td>\n",
              "            <td>1</td>\n",
              "        </tr>\n",
              "    </tbody>\n",
              "</table>"
            ]
          },
          "metadata": {},
          "execution_count": 7
        }
      ]
    },
    {
      "cell_type": "markdown",
      "source": [
        "##Pregunta 2\n",
        "\n",
        "Ahora que tenemos nuestra base de datos preparada, la podemos analizar en más detalles. En esta primera pregunta te pedimos encontrar la(s) persona(s) qué participa(n) en máxima cantidad de talleres que se realizan en **Honduras**. Se requiere escribir una consulta SQL que recupera esta información sobre nuestro esquema. Esto quiere decir que la consulta debe devolver esta misma información sobre cualquier instancia de nuestro esquema, y no solo con la instancia que estamos revisando."
      ],
      "metadata": {
        "id": "yB4d1b1KFw3v"
      }
    },
    {
      "cell_type": "code",
      "source": [
        "%%sql\n",
        "SELECT Persona.rut, Persona.nombre \n",
        "From Participa, Persona\n",
        "WHERE Participa.rut = Persona.rut\n",
        "      AND Participa.idTaller IN (SELECT idTaller\n",
        "                                FROM (\n",
        "                                SELECT idTaller, MAX(Asistencia_Taller) Asistencia_Max\n",
        "                                FROM(   \n",
        "                                      SELECT Participa.idTaller, COUNT(Participa.rut) Asistencia_Taller\n",
        "                                      From Participa, EstaEn, Lugar\n",
        "                                      WHERE Participa.idTaller = EstaEn.idTaller\n",
        "                                            AND EstaEn.idLugar = Lugar.id\n",
        "                                            AND Lugar.nombrePais = 'Honduras'\n",
        "                                      GROUP BY Participa.idTaller\n",
        "                                      ORDER BY Asistencia_Taller DESC) AS Taller_asistente))"
      ],
      "metadata": {
        "id": "mXS-rMdGES3X",
        "colab": {
          "base_uri": "https://localhost:8080/",
          "height": 137
        },
        "outputId": "286b4e43-f56f-47a0-f01e-f8769367b1de"
      },
      "execution_count": null,
      "outputs": [
        {
          "output_type": "stream",
          "name": "stdout",
          "text": [
            " * sqlite:///datos_T2.db\n",
            "Done.\n"
          ]
        },
        {
          "output_type": "execute_result",
          "data": {
            "text/plain": [
              "[('757-47-6075', 'Crystal Mitchell'),\n",
              " ('853-31-9682', 'Laura Wallace'),\n",
              " ('114-10-5754', 'Brittany Mills')]"
            ],
            "text/html": [
              "<table>\n",
              "    <thead>\n",
              "        <tr>\n",
              "            <th>rut</th>\n",
              "            <th>nombre</th>\n",
              "        </tr>\n",
              "    </thead>\n",
              "    <tbody>\n",
              "        <tr>\n",
              "            <td>757-47-6075</td>\n",
              "            <td>Crystal Mitchell</td>\n",
              "        </tr>\n",
              "        <tr>\n",
              "            <td>853-31-9682</td>\n",
              "            <td>Laura Wallace</td>\n",
              "        </tr>\n",
              "        <tr>\n",
              "            <td>114-10-5754</td>\n",
              "            <td>Brittany Mills</td>\n",
              "        </tr>\n",
              "    </tbody>\n",
              "</table>"
            ]
          },
          "metadata": {},
          "execution_count": 43
        }
      ]
    },
    {
      "cell_type": "markdown",
      "source": [
        "##Pregunta 3\n",
        "\n",
        "Ahora nos interesaría encontrar el nombre del deporte más popular. Para esto, escriba la consulta SQL que encuentra el nombre de deporte de taller deportivo con la mayor cantidad de participantes. De nuevo, tu consulta debe funcionar sobre cualquier instancia de nuestro esquema.\n"
      ],
      "metadata": {
        "id": "5ajnI5m7F9pI"
      }
    },
    {
      "cell_type": "code",
      "source": [
        "%%sql\n",
        "SELECT deporte AS Deporte_Más_Popular\n",
        "FROM(\n",
        "      SELECT Asistencia_Taller_Deportivo.deporte, MAX(Asistencia_Taller_Deportivo)\n",
        "      FROM(   \n",
        "            SELECT TallerDeportivo.deporte, COUNT(Participa.rut) AS Asistencia_Taller_Deportivo\n",
        "            From Participa, TallerDeportivo\n",
        "            WHERE Participa.idTaller = TallerDeportivo.id\n",
        "            GROUP BY TallerDeportivo.deporte\n",
        "            ORDER BY Asistencia_Taller_Deportivo DESC) AS Asistencia_Taller_Deportivo)"
      ],
      "metadata": {
        "id": "dz23KWdDGU-n",
        "colab": {
          "base_uri": "https://localhost:8080/",
          "height": 95
        },
        "outputId": "b6f376a0-de53-4259-8248-19d868ad674e"
      },
      "execution_count": null,
      "outputs": [
        {
          "output_type": "stream",
          "name": "stdout",
          "text": [
            " * sqlite:///datos_T2.db\n",
            "Done.\n"
          ]
        },
        {
          "output_type": "execute_result",
          "data": {
            "text/plain": [
              "[('Basquetbol',)]"
            ],
            "text/html": [
              "<table>\n",
              "    <thead>\n",
              "        <tr>\n",
              "            <th>Deporte_Más_Popular</th>\n",
              "        </tr>\n",
              "    </thead>\n",
              "    <tbody>\n",
              "        <tr>\n",
              "            <td>Basquetbol</td>\n",
              "        </tr>\n",
              "    </tbody>\n",
              "</table>"
            ]
          },
          "metadata": {},
          "execution_count": 56
        }
      ]
    },
    {
      "cell_type": "markdown",
      "source": [
        "##Pregunta 4\n",
        "\n",
        "Ahora para cada taller instrumental cuenta el número de gente con el correo “@uc” participando. Debes escribir una consulta SQL que devuelve el id del taller, nombre del instrumento, y el número de personas con el correo “@uc” inscritas a este taller. Para filtrar la gente participando, ocupa el comando LIKE, que permite buscar sobre un string."
      ],
      "metadata": {
        "id": "7OyQmth3GgJi"
      }
    },
    {
      "cell_type": "code",
      "source": [
        "%%sql\n",
        "SELECT TallerInstrumental.id, TallerInstrumental.instrumento, COUNT(Participa.rut) AS Numero_Asistentes\n",
        "FROM Participa, Persona, TallerInstrumental\n",
        "WHERE Participa.rut = Persona.rut\n",
        "      AND Participa.idTaller = TallerInstrumental.id\n",
        "      AND Persona.correo LIKE '%@uc%'\n",
        "      AND Participa.idTaller in (SELECT TallerInstrumental.id\n",
        "                                  FROM TallerInstrumental)\n",
        "GROUP BY TallerInstrumental.id, TallerInstrumental.instrumento\n",
        "ORDER BY Numero_Asistentes DESC;"
      ],
      "metadata": {
        "id": "lQOBVFpoGn0R",
        "colab": {
          "base_uri": "https://localhost:8080/",
          "height": 493
        },
        "outputId": "a674676b-ae59-4129-ef19-f3a8c0f751e2"
      },
      "execution_count": 59,
      "outputs": [
        {
          "output_type": "stream",
          "name": "stdout",
          "text": [
            " * sqlite:///datos_T2.db\n",
            "Done.\n"
          ]
        },
        {
          "output_type": "execute_result",
          "data": {
            "text/plain": [
              "[(130, 'Guitarra', 2),\n",
              " (170, 'Bajo', 2),\n",
              " (102, 'Bajo', 1),\n",
              " (113, 'Batería', 1),\n",
              " (115, 'Batería', 1),\n",
              " (119, 'Violín', 1),\n",
              " (133, 'Bajo', 1),\n",
              " (134, 'Piano', 1),\n",
              " (136, 'Guitarra', 1),\n",
              " (138, 'Batería', 1),\n",
              " (154, 'Batería', 1),\n",
              " (158, 'Piano', 1),\n",
              " (165, 'Guitarra', 1),\n",
              " (167, 'Violín', 1),\n",
              " (179, 'Violín', 1),\n",
              " (188, 'Bajo', 1),\n",
              " (189, 'Piano', 1),\n",
              " (191, 'Guitarra', 1),\n",
              " (197, 'Trompeta', 1),\n",
              " (199, 'Piano', 1)]"
            ],
            "text/html": [
              "<table>\n",
              "    <thead>\n",
              "        <tr>\n",
              "            <th>id</th>\n",
              "            <th>instrumento</th>\n",
              "            <th>Numero_Asistentes</th>\n",
              "        </tr>\n",
              "    </thead>\n",
              "    <tbody>\n",
              "        <tr>\n",
              "            <td>130</td>\n",
              "            <td>Guitarra</td>\n",
              "            <td>2</td>\n",
              "        </tr>\n",
              "        <tr>\n",
              "            <td>170</td>\n",
              "            <td>Bajo</td>\n",
              "            <td>2</td>\n",
              "        </tr>\n",
              "        <tr>\n",
              "            <td>102</td>\n",
              "            <td>Bajo</td>\n",
              "            <td>1</td>\n",
              "        </tr>\n",
              "        <tr>\n",
              "            <td>113</td>\n",
              "            <td>Batería</td>\n",
              "            <td>1</td>\n",
              "        </tr>\n",
              "        <tr>\n",
              "            <td>115</td>\n",
              "            <td>Batería</td>\n",
              "            <td>1</td>\n",
              "        </tr>\n",
              "        <tr>\n",
              "            <td>119</td>\n",
              "            <td>Violín</td>\n",
              "            <td>1</td>\n",
              "        </tr>\n",
              "        <tr>\n",
              "            <td>133</td>\n",
              "            <td>Bajo</td>\n",
              "            <td>1</td>\n",
              "        </tr>\n",
              "        <tr>\n",
              "            <td>134</td>\n",
              "            <td>Piano</td>\n",
              "            <td>1</td>\n",
              "        </tr>\n",
              "        <tr>\n",
              "            <td>136</td>\n",
              "            <td>Guitarra</td>\n",
              "            <td>1</td>\n",
              "        </tr>\n",
              "        <tr>\n",
              "            <td>138</td>\n",
              "            <td>Batería</td>\n",
              "            <td>1</td>\n",
              "        </tr>\n",
              "        <tr>\n",
              "            <td>154</td>\n",
              "            <td>Batería</td>\n",
              "            <td>1</td>\n",
              "        </tr>\n",
              "        <tr>\n",
              "            <td>158</td>\n",
              "            <td>Piano</td>\n",
              "            <td>1</td>\n",
              "        </tr>\n",
              "        <tr>\n",
              "            <td>165</td>\n",
              "            <td>Guitarra</td>\n",
              "            <td>1</td>\n",
              "        </tr>\n",
              "        <tr>\n",
              "            <td>167</td>\n",
              "            <td>Violín</td>\n",
              "            <td>1</td>\n",
              "        </tr>\n",
              "        <tr>\n",
              "            <td>179</td>\n",
              "            <td>Violín</td>\n",
              "            <td>1</td>\n",
              "        </tr>\n",
              "        <tr>\n",
              "            <td>188</td>\n",
              "            <td>Bajo</td>\n",
              "            <td>1</td>\n",
              "        </tr>\n",
              "        <tr>\n",
              "            <td>189</td>\n",
              "            <td>Piano</td>\n",
              "            <td>1</td>\n",
              "        </tr>\n",
              "        <tr>\n",
              "            <td>191</td>\n",
              "            <td>Guitarra</td>\n",
              "            <td>1</td>\n",
              "        </tr>\n",
              "        <tr>\n",
              "            <td>197</td>\n",
              "            <td>Trompeta</td>\n",
              "            <td>1</td>\n",
              "        </tr>\n",
              "        <tr>\n",
              "            <td>199</td>\n",
              "            <td>Piano</td>\n",
              "            <td>1</td>\n",
              "        </tr>\n",
              "    </tbody>\n",
              "</table>"
            ]
          },
          "metadata": {},
          "execution_count": 59
        }
      ]
    },
    {
      "cell_type": "markdown",
      "source": [
        "##Pregunta 5\n",
        "\n",
        "Para cada persona, computa la cantidad de talleres en cuales participa esta persona. Esto debe incluir tantos talleres deportivos, cómo talleres instrumentales. Una manera de resolver esta consulta es ocupando consultas anidadas en la cláusula `FROM`, computando dicho número para cada tipo de taller."
      ],
      "metadata": {
        "id": "VqoJcVwnjJHu"
      }
    },
    {
      "cell_type": "code",
      "source": [
        "#Empleando UNION\n",
        "%%sql\n",
        "SELECT Tabla_total.rut, SUM(Tabla_total.Participación_Taller_Deportivo) AS Participación_Total_Taller_Deportivo, SUM(Tabla_total.Participación_Taller_Instrumental) AS Participación_Total_Taller_Instrumental, (SUM(Tabla_total.Participación_Taller_Deportivo) + SUM(Tabla_total.Participación_Taller_Instrumental)) AS Participación_Total\n",
        "FROM (\n",
        "      SELECT Participa.rut, COUNT(Participa.idTaller) AS Participación_Taller_Deportivo, (COUNT(Participa.idTaller) - COUNT(Participa.idTaller)) AS Participación_Taller_Instrumental\n",
        "      FROM Participa, TallerDeportivo\n",
        "      WHERE Participa.idTaller = TallerDeportivo.id\n",
        "            AND Participa.idTaller IN ( SELECT TallerDeportivo.id\n",
        "                                        FROM TallerDeportivo\n",
        "                                      )\n",
        "      GROUP BY Participa.rut\n",
        "      UNION\n",
        "      SELECT Participa.rut, (COUNT(Participa.idTaller) - COUNT(Participa.idTaller)) AS Participación_Taller_Deportivo, COUNT(Participa.idTaller) AS Participación_Taller_Instrumental\n",
        "      FROM Participa, TallerInstrumental\n",
        "      WHERE Participa.idTaller = TallerInstrumental.id\n",
        "            AND Participa.idTaller IN ( SELECT TallerInstrumental.id\n",
        "                                        FROM TallerInstrumental\n",
        "                                      )\n",
        "      GROUP BY Participa.rut) AS Tabla_total\n",
        "GROUP BY Tabla_total.rut\n",
        "ORDER BY Participación_Total DESC;"
      ],
      "metadata": {
        "id": "EenGXNQT_9wn"
      },
      "execution_count": null,
      "outputs": []
    }
  ]
}